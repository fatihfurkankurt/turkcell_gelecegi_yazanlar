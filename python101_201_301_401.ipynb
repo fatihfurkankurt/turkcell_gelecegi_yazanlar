{
 "cells": [
  {
   "cell_type": "code",
   "execution_count": 1,
   "id": "7c3c0cd8-0156-488b-b747-39ca7aa291af",
   "metadata": {},
   "outputs": [
    {
     "data": {
      "text/plain": [
       "'GELECEGI_YAZANLAR'"
      ]
     },
     "execution_count": 1,
     "metadata": {},
     "output_type": "execute_result"
    }
   ],
   "source": [
    "gel_yaz = \"gelecegı_yazanlar\"\n",
    "B = gel_yaz.upper()\n",
    "B"
   ]
  },
  {
   "cell_type": "code",
   "execution_count": 2,
   "id": "f8292f57-4409-4605-a02c-145f80d71a1b",
   "metadata": {},
   "outputs": [
    {
     "data": {
      "text/plain": [
       "True"
      ]
     },
     "execution_count": 2,
     "metadata": {},
     "output_type": "execute_result"
    }
   ],
   "source": [
    "B.isupper()"
   ]
  },
  {
   "cell_type": "code",
   "execution_count": 3,
   "id": "d829232a-87cb-44b4-8939-93378d3fd0f9",
   "metadata": {},
   "outputs": [
    {
     "data": {
      "text/plain": [
       "False"
      ]
     },
     "execution_count": 3,
     "metadata": {},
     "output_type": "execute_result"
    }
   ],
   "source": [
    "B.islower()"
   ]
  },
  {
   "cell_type": "code",
   "execution_count": 4,
   "id": "3ce2833e-3c79-488c-91a6-5947036aabfc",
   "metadata": {},
   "outputs": [
    {
     "data": {
      "text/plain": [
       "False"
      ]
     },
     "execution_count": 4,
     "metadata": {},
     "output_type": "execute_result"
    }
   ],
   "source": [
    "gel_yaz.isupper()"
   ]
  },
  {
   "cell_type": "code",
   "execution_count": 5,
   "id": "8180f153-4382-44b1-aa5a-e1ac7c0a1478",
   "metadata": {},
   "outputs": [
    {
     "data": {
      "text/plain": [
       "'galacagı_yazanlar'"
      ]
     },
     "execution_count": 5,
     "metadata": {},
     "output_type": "execute_result"
    }
   ],
   "source": [
    "gel_yaz.replace(\"e\",\"a\")"
   ]
  },
  {
   "cell_type": "code",
   "execution_count": 6,
   "id": "64b747b3-d50f-4f43-89d2-92baf305707b",
   "metadata": {},
   "outputs": [
    {
     "data": {
      "text/plain": [
       "'gelecegı_yazanlar'"
      ]
     },
     "execution_count": 6,
     "metadata": {},
     "output_type": "execute_result"
    }
   ],
   "source": [
    "gel_yaz"
   ]
  },
  {
   "cell_type": "code",
   "execution_count": 7,
   "id": "28ec3aa0-619b-4d7b-a58e-2ac11ab5cd56",
   "metadata": {},
   "outputs": [
    {
     "data": {
      "text/plain": [
       "'gelecegı_yazanlar'"
      ]
     },
     "execution_count": 7,
     "metadata": {},
     "output_type": "execute_result"
    }
   ],
   "source": [
    "gel_yaz = \"*gelecegı_yazanlar*\"\n",
    "gel_yaz.strip(\"*\")"
   ]
  },
  {
   "cell_type": "code",
   "execution_count": 8,
   "id": "4dac6292-2b14-473a-b5cf-1cb962f37913",
   "metadata": {},
   "outputs": [
    {
     "data": {
      "text/plain": [
       "float"
      ]
     },
     "execution_count": 8,
     "metadata": {},
     "output_type": "execute_result"
    }
   ],
   "source": [
    "type(100.2)"
   ]
  },
  {
   "cell_type": "code",
   "execution_count": 9,
   "id": "4e8be436-0dc2-4526-a9fa-c6a4bb12229c",
   "metadata": {},
   "outputs": [
    {
     "data": {
      "text/plain": [
       "int"
      ]
     },
     "execution_count": 9,
     "metadata": {},
     "output_type": "execute_result"
    }
   ],
   "source": [
    "type(100)"
   ]
  },
  {
   "cell_type": "code",
   "execution_count": 10,
   "id": "8675b7c8-a7c1-4c6d-a530-61a5ac35c958",
   "metadata": {},
   "outputs": [
    {
     "data": {
      "text/plain": [
       "complex"
      ]
     },
     "execution_count": 10,
     "metadata": {},
     "output_type": "execute_result"
    }
   ],
   "source": [
    "type(1+2j)"
   ]
  },
  {
   "cell_type": "code",
   "execution_count": 11,
   "id": "263dab81-460e-40e1-95dc-60f5806a2b8a",
   "metadata": {},
   "outputs": [
    {
     "data": {
      "text/plain": [
       "11"
      ]
     },
     "execution_count": 11,
     "metadata": {},
     "output_type": "execute_result"
    }
   ],
   "source": [
    "int(11.0)"
   ]
  },
  {
   "cell_type": "code",
   "execution_count": 12,
   "id": "55e8f7cb-6c27-4b89-b414-f1e12f0668fa",
   "metadata": {},
   "outputs": [
    {
     "data": {
      "text/plain": [
       "str"
      ]
     },
     "execution_count": 12,
     "metadata": {},
     "output_type": "execute_result"
    }
   ],
   "source": [
    "type(str(12))"
   ]
  },
  {
   "cell_type": "code",
   "execution_count": 13,
   "id": "eac4d914-3e20-49b1-b731-6411e6265acc",
   "metadata": {},
   "outputs": [
    {
     "data": {
      "text/plain": [
       "12.0"
      ]
     },
     "execution_count": 13,
     "metadata": {},
     "output_type": "execute_result"
    }
   ],
   "source": [
    "float(12)"
   ]
  },
  {
   "cell_type": "code",
   "execution_count": 14,
   "id": "0a342e2e-083b-493f-a50c-c0149097e449",
   "metadata": {},
   "outputs": [
    {
     "name": "stdout",
     "output_type": "stream",
     "text": [
      "gelecegı_yazanlar\n"
     ]
    }
   ],
   "source": [
    "print (\"gelecegı\",\"yazanlar\", sep = \"_\")"
   ]
  },
  {
   "cell_type": "code",
   "execution_count": 15,
   "id": "dbf083c8-0a62-4964-885b-a331021564fd",
   "metadata": {},
   "outputs": [
    {
     "data": {
      "text/plain": [
       "'Merhaba!'"
      ]
     },
     "execution_count": 15,
     "metadata": {},
     "output_type": "execute_result"
    }
   ],
   "source": [
    "ifade = \"  Merhaba!  \"\n",
    "ifade.strip(\" \")"
   ]
  },
  {
   "cell_type": "code",
   "execution_count": 16,
   "id": "92ecb421-9748-43e4-be96-3b453d13990d",
   "metadata": {},
   "outputs": [
    {
     "data": {
      "text/plain": [
       "'ab'"
      ]
     },
     "execution_count": 16,
     "metadata": {},
     "output_type": "execute_result"
    }
   ],
   "source": [
    "\"a\" + \"b\""
   ]
  },
  {
   "cell_type": "code",
   "execution_count": 17,
   "id": "3d3b837f-c34a-4f92-ae7a-dd95301ca039",
   "metadata": {},
   "outputs": [
    {
     "data": {
      "text/plain": [
       "16"
      ]
     },
     "execution_count": 17,
     "metadata": {},
     "output_type": "execute_result"
    }
   ],
   "source": [
    "degısken = 4\n",
    "degısken*degısken"
   ]
  },
  {
   "cell_type": "code",
   "execution_count": 18,
   "id": "2fbbd264-c0ba-487e-90c7-5c807d10cf48",
   "metadata": {},
   "outputs": [
    {
     "data": {
      "text/plain": [
       "30"
      ]
     },
     "execution_count": 18,
     "metadata": {},
     "output_type": "execute_result"
    }
   ],
   "source": [
    "liste = [1,2,3, [20,30,40]]\n",
    "liste [3][1]"
   ]
  },
  {
   "cell_type": "code",
   "execution_count": 19,
   "id": "32031730-ee1c-43db-86cd-39afdf130bdb",
   "metadata": {},
   "outputs": [
    {
     "data": {
      "text/plain": [
       "[1, 2, 3, [20, 30, 40], 'FF']"
      ]
     },
     "execution_count": 19,
     "metadata": {},
     "output_type": "execute_result"
    }
   ],
   "source": [
    "liste = liste + [\"FF\"]\n",
    "liste"
   ]
  },
  {
   "cell_type": "code",
   "execution_count": 20,
   "id": "06e8b4b8-3522-4d55-8a93-8229208f8e8e",
   "metadata": {},
   "outputs": [
    {
     "data": {
      "text/plain": [
       "[1, 2, 3, [20, 30, 40], 'FF', 'BA']"
      ]
     },
     "execution_count": 20,
     "metadata": {},
     "output_type": "execute_result"
    }
   ],
   "source": [
    "liste.append (\"BA\")\n",
    "liste"
   ]
  },
  {
   "cell_type": "code",
   "execution_count": 21,
   "id": "a6b4d6e8-44d7-4f47-9dee-c15e3630feeb",
   "metadata": {},
   "outputs": [
    {
     "data": {
      "text/plain": [
       "[1, 2, 3, [20, 30, 40], 'FF']"
      ]
     },
     "execution_count": 21,
     "metadata": {},
     "output_type": "execute_result"
    }
   ],
   "source": [
    "liste.remove (\"BA\")\n",
    "liste"
   ]
  },
  {
   "cell_type": "code",
   "execution_count": 22,
   "id": "d24fd4c9-8d08-4251-bd90-974e2ca2de65",
   "metadata": {},
   "outputs": [
    {
     "data": {
      "text/plain": [
       "['python101dersi', 1, 2, 3, [20, 30, 40], 'FF']"
      ]
     },
     "execution_count": 22,
     "metadata": {},
     "output_type": "execute_result"
    }
   ],
   "source": [
    "liste.insert(0,\"python101dersi\")\n",
    "liste\n",
    "#insert indekse göre eleman ekler"
   ]
  },
  {
   "cell_type": "code",
   "execution_count": 23,
   "id": "41436c0e-effa-48cb-8682-a053f559c0c9",
   "metadata": {},
   "outputs": [
    {
     "data": {
      "text/plain": [
       "['python101dersi', 1, 2, 3, [20, 30, 40], 'FF', 'soneelemanadeğerekleme']"
      ]
     },
     "execution_count": 23,
     "metadata": {},
     "output_type": "execute_result"
    }
   ],
   "source": [
    "liste.insert(len(liste),\"soneelemanadeğerekleme\")\n",
    "liste"
   ]
  },
  {
   "cell_type": "code",
   "execution_count": 24,
   "id": "d065b51b-4cff-412d-a2d6-c99de4154bd3",
   "metadata": {},
   "outputs": [
    {
     "data": {
      "text/plain": [
       "['python101dersi', 1, 2, 3, [20, 30, 40], 'FF']"
      ]
     },
     "execution_count": 24,
     "metadata": {},
     "output_type": "execute_result"
    }
   ],
   "source": [
    "liste.pop(6)\n",
    "liste\n",
    "#pop indekse göre eleman siler"
   ]
  },
  {
   "cell_type": "code",
   "execution_count": 25,
   "id": "2f07877c-2e5b-46b8-a2c8-73bc53380481",
   "metadata": {},
   "outputs": [
    {
     "data": {
      "text/plain": [
       "1"
      ]
     },
     "execution_count": 25,
     "metadata": {},
     "output_type": "execute_result"
    }
   ],
   "source": [
    "liste.count(\"FF\")\n",
    "#frekans/sıklık"
   ]
  },
  {
   "cell_type": "code",
   "execution_count": 26,
   "id": "cc983f10-2b84-43c7-9ca6-42c8bff7e979",
   "metadata": {},
   "outputs": [
    {
     "data": {
      "text/plain": [
       "['python101dersi', 1, 2, 3, [20, 30, 40], 'FF']"
      ]
     },
     "execution_count": 26,
     "metadata": {},
     "output_type": "execute_result"
    }
   ],
   "source": [
    "yedek_liste = liste.copy()\n",
    "yedek_liste\n",
    "#copy elimizdeki mevcut listeyi yedeklemek için kullanılır"
   ]
  },
  {
   "cell_type": "code",
   "execution_count": 27,
   "id": "07e259ad-4647-4e29-91a7-2ddc4fcc2b9f",
   "metadata": {},
   "outputs": [
    {
     "data": {
      "text/plain": [
       "['python101dersi', 1, 2, 3, [20, 30, 40], 'FF', 'ali', 'veli']"
      ]
     },
     "execution_count": 27,
     "metadata": {},
     "output_type": "execute_result"
    }
   ],
   "source": [
    "liste2 = [\"ali\",\"veli\"]\n",
    "liste.extend(liste2)\n",
    "liste\n",
    "#extend iki listeyi birleştirir"
   ]
  },
  {
   "cell_type": "markdown",
   "id": "47c97fad-1f75-4848-a3a7-95005642de9e",
   "metadata": {},
   "source": [
    "- index() indeksini bulma\n",
    "- reverse() listeyi terse çevirir\n",
    "- sort() küçükten büyüğe sıralar listeyi\n",
    "- clear() listeyi temizler"
   ]
  },
  {
   "attachments": {
    "9c62e161-8f59-41aa-bc8c-5f8645671b4d.png": {
     "image/png": "[encoded data removed]"
    }
   },
   "cell_type": "markdown",
   "id": "db4e133b-56c0-4665-9b23-999ca6d7b83c",
   "metadata": {},
   "source": [
    "![python201_veriyapıları.png](attachment:9c62e161-8f59-41aa-bc8c-5f8645671b4d.png)"
   ]
  },
  {
   "cell_type": "markdown",
   "id": "26b92a5b-452c-4b77-b556-09b322106c27",
   "metadata": {},
   "source": [
    "#### Tuple 'nin listeden en önemli farkı değiştirilemez olmasıdır"
   ]
  },
  {
   "cell_type": "code",
   "execution_count": 28,
   "id": "ed82d8a0-26de-4254-9816-5c5e18ed3f5f",
   "metadata": {},
   "outputs": [
    {
     "data": {
      "text/plain": [
       "tuple"
      ]
     },
     "execution_count": 28,
     "metadata": {},
     "output_type": "execute_result"
    }
   ],
   "source": [
    "t = (\"fatih\",\"furkan\",1,2,3.2,[1,2,3])\n",
    "type(t)"
   ]
  },
  {
   "cell_type": "code",
   "execution_count": 29,
   "id": "aab60347-9a95-42fe-bef5-d87b59702ca3",
   "metadata": {},
   "outputs": [
    {
     "data": {
      "text/plain": [
       "tuple"
      ]
     },
     "execution_count": 29,
     "metadata": {},
     "output_type": "execute_result"
    }
   ],
   "source": [
    "t = (\"eleman\",)\n",
    "type(t)\n",
    "#virgülsüz yazılsa str çıkacak"
   ]
  },
  {
   "cell_type": "code",
   "execution_count": 30,
   "id": "7bacab53-791f-42d8-a360-524e6f77effe",
   "metadata": {},
   "outputs": [],
   "source": [
    "t = (\"fatih\",\"furkan\",1,2,3.2,[1,2,3])\n",
    "#t[2] = 99\n",
    "#hata verir. tuple değiştirilemez. bazen bu avantajdır"
   ]
  },
  {
   "cell_type": "markdown",
   "id": "6a3c07c6-7606-4d8a-94bd-4e9a39047c8a",
   "metadata": {},
   "source": [
    "#### Sözlüklerde süslü parantezler kullanılır. Klasik indeks mantığı yoktur."
   ]
  },
  {
   "cell_type": "code",
   "execution_count": 31,
   "id": "3c8356bd-7677-421b-9db1-5547fd1a8a19",
   "metadata": {},
   "outputs": [
    {
     "data": {
      "text/plain": [
       "{'FTR': ['Anatomi', 'Fizyoloji', 'Histoloji', 'Farmakoloji'],\n",
       " 'YBS': ['Programlama', 'C#', 'Algoritma', 'Veri Madenciliği']}"
      ]
     },
     "execution_count": 31,
     "metadata": {},
     "output_type": "execute_result"
    }
   ],
   "source": [
    "sozluk = {\"FTR\": [\"Anatomi\",\"Fizyoloji\",\"Histoloji\",\"Farmakoloji\"],\n",
    "          \"YBS\": [\"Programlama\",\"C#\",\"Algoritma\",\"Veri Madenciliği\"]}\n",
    "sozluk"
   ]
  },
  {
   "cell_type": "code",
   "execution_count": 32,
   "id": "9bcb5f12-fb92-4062-8dcb-3215bf63da90",
   "metadata": {},
   "outputs": [
    {
     "data": {
      "text/plain": [
       "['Anatomi', 'Fizyoloji', 'Histoloji', 'Farmakoloji']"
      ]
     },
     "execution_count": 32,
     "metadata": {},
     "output_type": "execute_result"
    }
   ],
   "source": [
    "sozluk [\"FTR\"]"
   ]
  },
  {
   "cell_type": "code",
   "execution_count": 33,
   "id": "a0a02eb0-f5a9-4e5d-90d3-53454254b79f",
   "metadata": {},
   "outputs": [
    {
     "data": {
      "text/plain": [
       "100"
      ]
     },
     "execution_count": 33,
     "metadata": {},
     "output_type": "execute_result"
    }
   ],
   "source": [
    "sınav_sonuc = {\"Vize\": {\"Matematik\": 90,\n",
    "                       \"Sistem Yönetimi\" : 100,\n",
    "                       \"Ağ Güvenliği\": 80}}\n",
    "sınav_sonuc[\"Vize\"][\"Sistem Yönetimi\"]"
   ]
  },
  {
   "cell_type": "code",
   "execution_count": 34,
   "id": "d09e66fd-0c8f-4b73-ab55-74dba426420d",
   "metadata": {},
   "outputs": [
    {
     "data": {
      "text/plain": [
       "{'Vize': {'Matematik': 90, 'Sistem Yönetimi': 95, 'Ağ Güvenliği': 80},\n",
       " 'Final': {'Matematik': 75}}"
      ]
     },
     "execution_count": 34,
     "metadata": {},
     "output_type": "execute_result"
    }
   ],
   "source": [
    "sınav_sonuc[\"Final\"] = {\"Matematik\":75}\n",
    "sınav_sonuc[\"Vize\"] = {\"Matematik\": 90,\n",
    "                       \"Sistem Yönetimi\" : 95,\n",
    "                       \"Ağ Güvenliği\": 80}\n",
    "sınav_sonuc\n",
    "#sözlüğe eleman ekleme/değiştirme"
   ]
  },
  {
   "cell_type": "code",
   "execution_count": 35,
   "id": "8e9ea22a-d463-47cd-904d-feb903ec5bc0",
   "metadata": {},
   "outputs": [
    {
     "data": {
      "text/plain": [
       "dict"
      ]
     },
     "execution_count": 35,
     "metadata": {},
     "output_type": "execute_result"
    }
   ],
   "source": [
    "type(sınav_sonuc)"
   ]
  },
  {
   "cell_type": "markdown",
   "id": "76d79b0c-0f6a-4de5-8117-ff4d4ff5349e",
   "metadata": {},
   "source": [
    "#### Listeler sözlük için eklenemez. Çünkü sabit veri yapıları değillerdir. Sözlükler str, int, tuple gibi sabit veri yapılarını kabul eder."
   ]
  },
  {
   "cell_type": "code",
   "execution_count": 39,
   "id": "2d4e42bf-1bcd-4df9-8e95-2cbf2d5a2c46",
   "metadata": {},
   "outputs": [
    {
     "data": {
      "text/plain": [
       "tuple"
      ]
     },
     "execution_count": 39,
     "metadata": {},
     "output_type": "execute_result"
    }
   ],
   "source": [
    "t10 = (\"Sözlü Sınav\",)\n",
    "type(t10)"
   ]
  },
  {
   "cell_type": "code",
   "execution_count": 41,
   "id": "519083ad-7c71-4724-92f9-28a38db1bd13",
   "metadata": {},
   "outputs": [
    {
     "data": {
      "text/plain": [
       "{'Vize': {'Matematik': 90, 'Sistem Yönetimi': 95, 'Ağ Güvenliği': 80},\n",
       " 'Final': {'Matematik': 75},\n",
       " ('Sözlü Sınav',): '60'}"
      ]
     },
     "execution_count": 41,
     "metadata": {},
     "output_type": "execute_result"
    }
   ],
   "source": [
    "sınav_sonuc[t10] = \"60\"\n",
    "sınav_sonuc"
   ]
  },
  {
   "cell_type": "markdown",
   "id": "e6c2986a-079d-4438-b1d8-017c19d1325a",
   "metadata": {},
   "source": [
    "#### Setler sırasızdır, tekrar eden değerlerden oluşamaz, değiştirilebilir, farklı değerleri barındırabilir"
   ]
  },
  {
   "cell_type": "code",
   "execution_count": 53,
   "id": "f1ff7521-bbba-4e11-9f25-afc4471d21a6",
   "metadata": {},
   "outputs": [
    {
     "data": {
      "text/plain": [
       "str"
      ]
     },
     "execution_count": 53,
     "metadata": {},
     "output_type": "execute_result"
    }
   ],
   "source": [
    "set_ornek = \"bu_bir_Set_ornegıdır_aaaabbbbbcccc\"\n",
    "type(set_ornek)"
   ]
  },
  {
   "cell_type": "code",
   "execution_count": 54,
   "id": "28a683cc-f38c-4ebf-af0a-af9e52634827",
   "metadata": {},
   "outputs": [
    {
     "data": {
      "text/plain": [
       "{'S', '_', 'a', 'b', 'c', 'd', 'e', 'g', 'i', 'n', 'o', 'r', 't', 'u', 'ı'}"
      ]
     },
     "execution_count": 54,
     "metadata": {},
     "output_type": "execute_result"
    }
   ],
   "source": [
    "x = set(set_ornek)\n",
    "x"
   ]
  },
  {
   "cell_type": "code",
   "execution_count": 55,
   "id": "026a3006-2549-47f0-9f2c-5816ed291636",
   "metadata": {},
   "outputs": [
    {
     "data": {
      "text/plain": [
       "15"
      ]
     },
     "execution_count": 55,
     "metadata": {},
     "output_type": "execute_result"
    }
   ],
   "source": [
    "len(x)"
   ]
  },
  {
   "cell_type": "code",
   "execution_count": 61,
   "id": "72877ff1-046e-44b5-99c0-c68007add13e",
   "metadata": {},
   "outputs": [
    {
     "data": {
      "text/plain": [
       "{'gelecegı', 'yazanlar'}"
      ]
     },
     "execution_count": 61,
     "metadata": {},
     "output_type": "execute_result"
    }
   ],
   "source": [
    "l = [\"gelecegı\",\"yazanlar\"]\n",
    "s = set(l)\n",
    "s"
   ]
  },
  {
   "cell_type": "code",
   "execution_count": 63,
   "id": "ab4593bb-e1bf-4977-8f19-7aea591193bb",
   "metadata": {},
   "outputs": [
    {
     "data": {
      "text/plain": [
       "{'gelecegı', 'ile', 'yazanlar'}"
      ]
     },
     "execution_count": 63,
     "metadata": {},
     "output_type": "execute_result"
    }
   ],
   "source": [
    "s.add(\"ile\")\n",
    "s"
   ]
  },
  {
   "cell_type": "code",
   "execution_count": 64,
   "id": "dde1148c-63a6-4baa-b878-41f5020ff7ab",
   "metadata": {},
   "outputs": [
    {
     "data": {
      "text/plain": [
       "{'ile', 'yazanlar'}"
      ]
     },
     "execution_count": 64,
     "metadata": {},
     "output_type": "execute_result"
    }
   ],
   "source": [
    "s.remove(\"gelecegı\")\n",
    "s"
   ]
  },
  {
   "cell_type": "code",
   "execution_count": 66,
   "id": "e153368d-2417-4278-9a1b-27dd6535999c",
   "metadata": {},
   "outputs": [
    {
     "data": {
      "text/plain": [
       "{'ile', 'yazanlar'}"
      ]
     },
     "execution_count": 66,
     "metadata": {},
     "output_type": "execute_result"
    }
   ],
   "source": [
    "s.discard(\"gelecegı\")\n",
    "s\n",
    "#discard silinen bir şey bir daha silinmek istese hata vermesin diye kullanılır"
   ]
  },
  {
   "cell_type": "markdown",
   "id": "cabac1ba-d327-406f-bc56-950453cf61e9",
   "metadata": {},
   "source": [
    "#### Setlerde Fark İşlemleri\n",
    "- Difference() ile iki kümenin farkını ya da \"-\" ifadesi\n",
    "- İntersection() iki kümenin kesişimi ya da \"&\" ifadesi\n",
    "- uninon() iki küme birleşimi\n",
    "- symmetric_difference() ikisinde de olmayanlar"
   ]
  },
  {
   "cell_type": "code",
   "execution_count": 67,
   "id": "b8a22f3b-87de-4d0a-90f3-22de97da5fa9",
   "metadata": {},
   "outputs": [],
   "source": [
    "set1 = set([1,3,5])\n",
    "set2 = set([1,2,3])"
   ]
  },
  {
   "cell_type": "code",
   "execution_count": 68,
   "id": "25281de0-ede2-4083-b954-e59fca1dc99c",
   "metadata": {},
   "outputs": [
    {
     "data": {
      "text/plain": [
       "{2, 5}"
      ]
     },
     "execution_count": 68,
     "metadata": {},
     "output_type": "execute_result"
    }
   ],
   "source": [
    "set1.symmetric_difference(set2)"
   ]
  },
  {
   "cell_type": "code",
   "execution_count": 70,
   "id": "de540543-d760-4458-82d0-887a2945d1c6",
   "metadata": {},
   "outputs": [
    {
     "data": {
      "text/plain": [
       "{5}"
      ]
     },
     "execution_count": 70,
     "metadata": {},
     "output_type": "execute_result"
    }
   ],
   "source": [
    "set1-set2"
   ]
  },
  {
   "cell_type": "code",
   "execution_count": 71,
   "id": "0007d52c-964e-4183-a4e7-5704e3bdcd13",
   "metadata": {},
   "outputs": [
    {
     "data": {
      "text/plain": [
       "{2}"
      ]
     },
     "execution_count": 71,
     "metadata": {},
     "output_type": "execute_result"
    }
   ],
   "source": [
    "set2-set1"
   ]
  },
  {
   "cell_type": "code",
   "execution_count": 74,
   "id": "b1c3ff5f-029f-4bbb-aa06-b5d2c72daf36",
   "metadata": {},
   "outputs": [],
   "source": [
    "set1 = set([7,8,9])\n",
    "set2 = set([5,6,7,8,9,10])"
   ]
  },
  {
   "cell_type": "code",
   "execution_count": 75,
   "id": "f1c12ee8-8cbb-4c6f-b4fa-f0db855a5fcb",
   "metadata": {},
   "outputs": [
    {
     "data": {
      "text/plain": [
       "True"
      ]
     },
     "execution_count": 75,
     "metadata": {},
     "output_type": "execute_result"
    }
   ],
   "source": [
    "set1.issubset(set2)\n",
    "#set1 set2 'nin alt kümesi midir sorusu"
   ]
  },
  {
   "cell_type": "code",
   "execution_count": 78,
   "id": "f134d7f9-0def-46fa-b93e-e89410cff024",
   "metadata": {},
   "outputs": [
    {
     "data": {
      "text/plain": [
       "True"
      ]
     },
     "execution_count": 78,
     "metadata": {},
     "output_type": "execute_result"
    }
   ],
   "source": [
    "set2.issuperset(set1)\n",
    "#set2 set1 i kapsıyor mu sorusu"
   ]
  },
  {
   "cell_type": "markdown",
   "id": "fa1a961d-cc01-4750-94c4-3732a5cad33f",
   "metadata": {},
   "source": [
    "## Python 301 - Fonksiyonlar, Koşul Yapıları, Döngüler"
   ]
  },
  {
   "cell_type": "code",
   "execution_count": 79,
   "id": "6193d8cb-3326-4401-abf6-1e2c7709f580",
   "metadata": {},
   "outputs": [
    {
     "name": "stdout",
     "output_type": "stream",
     "text": [
      "25\n"
     ]
    }
   ],
   "source": [
    "def kare_al(x):\n",
    "    print(x**2)\n",
    "\n",
    "kare_al(5)"
   ]
  },
  {
   "cell_type": "code",
   "execution_count": 85,
   "id": "bd0bdf4f-f956-4997-a704-4b9fe041943f",
   "metadata": {},
   "outputs": [
    {
     "name": "stdout",
     "output_type": "stream",
     "text": [
      "5\n"
     ]
    }
   ],
   "source": [
    "def toplama_yap(x,y):\n",
    "    print(x+y)\n",
    "toplama_yap(3,2)"
   ]
  },
  {
   "cell_type": "code",
   "execution_count": 88,
   "id": "5939fedb-5d3d-46a8-9556-14209cd0c3e3",
   "metadata": {},
   "outputs": [
    {
     "name": "stdout",
     "output_type": "stream",
     "text": [
      "Girilen Sayının Karesi: 100\n"
     ]
    }
   ],
   "source": [
    "def kare_al(x):\n",
    "    print(\"Girilen Sayının Karesi: \" + str (x**2))\n",
    "\n",
    "kare_al(10)"
   ]
  },
  {
   "cell_type": "code",
   "execution_count": 91,
   "id": "c064d374-7618-45fd-8c3f-b0b1c7ab785a",
   "metadata": {},
   "outputs": [
    {
     "data": {
      "text/plain": [
       "50.90909090909091"
      ]
     },
     "execution_count": 91,
     "metadata": {},
     "output_type": "execute_result"
    }
   ],
   "source": [
    "def panel_enerci (isi,nem,sarj):\n",
    "    return (isi+nem/sarj)\n",
    "    \n",
    "panel_enerci(25,40,88)*2\n",
    "\n",
    "#fonksiyon çıktılarını return ile girdi olarak kullanmak"
   ]
  },
  {
   "cell_type": "markdown",
   "id": "a148282e-7f88-4f22-a843-bd5579bd1b19",
   "metadata": {},
   "source": [
    "### Local ve Global Değişkenler"
   ]
  },
  {
   "cell_type": "code",
   "execution_count": 93,
   "id": "033cbf32-df30-4472-b023-9d9a69006340",
   "metadata": {},
   "outputs": [],
   "source": [
    "#Global\n",
    "x=10\n",
    "y=10"
   ]
  },
  {
   "cell_type": "code",
   "execution_count": 95,
   "id": "f6c00a64-842d-4511-8c7c-401ba5bd06c1",
   "metadata": {},
   "outputs": [
    {
     "data": {
      "text/plain": [
       "100"
      ]
     },
     "execution_count": 95,
     "metadata": {},
     "output_type": "execute_result"
    }
   ],
   "source": [
    "#Local\n",
    "def carpma_yap(x=10,y=10):\n",
    "    return x*y\n",
    "carpma_yap()"
   ]
  },
  {
   "cell_type": "code",
   "execution_count": 98,
   "id": "dceed535-903a-4364-8e2d-c2b30d442541",
   "metadata": {},
   "outputs": [
    {
     "name": "stdout",
     "output_type": "stream",
     "text": [
      "ali ifadesi eklendi.\n"
     ]
    },
    {
     "data": {
      "text/plain": [
       "['ali']"
      ]
     },
     "execution_count": 98,
     "metadata": {},
     "output_type": "execute_result"
    }
   ],
   "source": [
    "#Local Etki Alanında Global Etki Alanlarını Değiştirmek\n",
    "x=[] #globalde x i boş değişken olarak tanımladık\n",
    "\n",
    "def eleman_ekle(y):\n",
    "    x.append(y)\n",
    "    print(str(y) + \" ifadesi eklendi.\")\n",
    "    \n",
    "eleman_ekle(\"ali\")\n",
    "x\n",
    "\n",
    "#x i lokalde bulamadığı için globalde aradı ve buldu"
   ]
  },
  {
   "cell_type": "markdown",
   "id": "a4692108-b5c5-4a4a-bd79-7673b680a3bb",
   "metadata": {},
   "source": [
    "### Karar Kontrol Yapıları (Koşul Yapıları)"
   ]
  },
  {
   "cell_type": "code",
   "execution_count": 99,
   "id": "b9426215-96d9-4839-8634-cd1372c6d4cf",
   "metadata": {},
   "outputs": [
    {
     "data": {
      "text/plain": [
       "False"
      ]
     },
     "execution_count": 99,
     "metadata": {},
     "output_type": "execute_result"
    }
   ],
   "source": [
    "sinir = 5000\n",
    "sinir == 4000"
   ]
  },
  {
   "cell_type": "code",
   "execution_count": 100,
   "id": "dbfede52-28b5-4b70-8a4f-b986550a1385",
   "metadata": {},
   "outputs": [
    {
     "data": {
      "text/plain": [
       "True"
      ]
     },
     "execution_count": 100,
     "metadata": {},
     "output_type": "execute_result"
    }
   ],
   "source": [
    "sinir == 5000"
   ]
  },
  {
   "cell_type": "code",
   "execution_count": 101,
   "id": "5a94bb49-4365-43a4-a134-5f74afb2acb8",
   "metadata": {},
   "outputs": [
    {
     "name": "stdout",
     "output_type": "stream",
     "text": [
      "Gelir sınırdan büyük\n"
     ]
    }
   ],
   "source": [
    "sinir = 5000\n",
    "gelir = 6000\n",
    "\n",
    "if gelir < sinir:\n",
    "    print (\"Gelir sınırdan küçük\")\n",
    "    print(gelir*2)\n",
    "else:\n",
    "    print (\"Gelir sınırdan büyük\")"
   ]
  },
  {
   "cell_type": "code",
   "execution_count": 110,
   "id": "d54342b8-7d4a-4c72-8c82-96cd804d48b5",
   "metadata": {},
   "outputs": [
    {
     "name": "stdout",
     "output_type": "stream",
     "text": [
      "durum belirsiz\n"
     ]
    }
   ],
   "source": [
    "sinir_deger = 5000\n",
    "gelir = 5000\n",
    "\n",
    "if gelir > sinir_deger:\n",
    "    print (\"iyi\")\n",
    "elif gelir < sinir_deger:\n",
    "    print (\"kötü\")\n",
    "else: \n",
    "    print (\"durum belirsiz\")"
   ]
  },
  {
   "cell_type": "markdown",
   "id": "9260ed7c-a666-4b6f-8ad5-29fd806ece41",
   "metadata": {},
   "source": [
    "#### Uygulamalı İF ve İNPUT ile Kullanıcı Etkileşimi"
   ]
  },
  {
   "cell_type": "code",
   "execution_count": 115,
   "id": "1adf7f92-0180-4f98-8536-00a8c4b8cbaf",
   "metadata": {},
   "outputs": [
    {
     "name": "stdout",
     "output_type": "stream",
     "text": [
      "Mağaza adı nedir ? FLO Ankara Şubesi\n",
      "Bu ayki ciro nedir ? 99999\n"
     ]
    },
    {
     "name": "stdout",
     "output_type": "stream",
     "text": [
      "Çalışmaya devam FLO Ankara Şubesi bu ay bitmez :) \n"
     ]
    }
   ],
   "source": [
    "esik_deger = 100000\n",
    "magaza_adı = input (\"Mağaza adı nedir ?\")\n",
    "ciro = int(input (\"Bu ayki ciro nedir ?\"))\n",
    "\n",
    "if ciro > esik_deger:\n",
    "    print (\"Güzel iş \" + magaza_adı + \" tebrikler\")\n",
    "elif esik_deger > ciro:\n",
    "    print (\"Çalışmaya devam \" + magaza_adı + \" bu ay bitmez :) \")\n",
    "else:\n",
    "    print (magaza_adı + \" incelenmeli\")"
   ]
  },
  {
   "cell_type": "markdown",
   "id": "816e11ab-4561-4e6c-b390-7a16afe12bb0",
   "metadata": {},
   "source": [
    "### Döngüler"
   ]
  },
  {
   "cell_type": "code",
   "execution_count": 2,
   "id": "b7ca96d2-3356-4a35-94d4-c55968ae488f",
   "metadata": {},
   "outputs": [
    {
     "name": "stdout",
     "output_type": "stream",
     "text": [
      "ali\n",
      "veli\n",
      "ahmet\n",
      "mehmet\n"
     ]
    }
   ],
   "source": [
    "ogrenci = [\"ali\",\"veli\",\"ahmet\",\"mehmet\"]\n",
    "\n",
    "for i in ogrenci:\n",
    "    print(i)"
   ]
  },
  {
   "cell_type": "code",
   "execution_count": 11,
   "id": "d30824f9-7682-4d07-879d-8e162fa97546",
   "metadata": {},
   "outputs": [
    {
     "name": "stdout",
     "output_type": "stream",
     "text": [
      "1200.0\n",
      "2400.0\n",
      "3600.0\n",
      "4800.0\n"
     ]
    }
   ],
   "source": [
    "#Döngü ve fonksiyonların birlikte kullanımı\n",
    "maaslar = [1000,2000,3000,4000]\n",
    "\n",
    "def yenı_maas (x):\n",
    "    print (x*20/100+x)\n",
    "\n",
    "for i in maaslar:\n",
    "    yenı_maas(i)\n",
    "    "
   ]
  },
  {
   "cell_type": "code",
   "execution_count": 14,
   "id": "ed0a0c1f-619a-40d0-aec2-72b7daa1436d",
   "metadata": {},
   "outputs": [
    {
     "name": "stdout",
     "output_type": "stream",
     "text": [
      "1200.0\n",
      "2400.0\n",
      "3300.0\n",
      "4400.0\n"
     ]
    }
   ],
   "source": [
    "#İf, For ve Fonksiyonların Birlikte Kullanımı\n",
    "\n",
    "maaslar = [1000,2000,3000,4000]\n",
    "\n",
    "def maas_ust(x):\n",
    "    print(x*10/100+x)\n",
    "\n",
    "def maas_alt(x):\n",
    "    print(x*20/100+x)\n",
    "\n",
    "for i in maaslar:\n",
    "    if i >= 3000:\n",
    "        maas_ust(i)\n",
    "    else:\n",
    "        maas_alt(i)"
   ]
  },
  {
   "cell_type": "markdown",
   "id": "3d023a1e-3949-4e74-9c70-c08ed2f64bb3",
   "metadata": {},
   "source": [
    "### Break ve Continue"
   ]
  },
  {
   "cell_type": "code",
   "execution_count": 16,
   "id": "8434f5ff-3d5e-414d-8c07-3d9b8236f9e5",
   "metadata": {},
   "outputs": [
    {
     "name": "stdout",
     "output_type": "stream",
     "text": [
      "1000\n",
      "2222\n",
      "3333\n",
      "kesildi\n"
     ]
    }
   ],
   "source": [
    "maaslar = [9999,3333,2222,1000,8000,5000]\n",
    "\n",
    "maaslar.sort()\n",
    "maaslar\n",
    "\n",
    "for i in maaslar:\n",
    "    if i == 5000:\n",
    "        print(\"kesildi\")\n",
    "        break\n",
    "    print(i)"
   ]
  },
  {
   "cell_type": "code",
   "execution_count": 17,
   "id": "8be9338f-9648-4b79-9bdf-77fac9ce35bc",
   "metadata": {},
   "outputs": [
    {
     "name": "stdout",
     "output_type": "stream",
     "text": [
      "1000\n",
      "2222\n",
      "3333\n",
      "5000\n",
      "9999\n"
     ]
    }
   ],
   "source": [
    "maaslar = [9999,3333,2222,1000,8000,5000]\n",
    "\n",
    "maaslar.sort()\n",
    "maaslar\n",
    "\n",
    "for i in maaslar:\n",
    "    if i == 8000:\n",
    "        continue\n",
    "    print(i)"
   ]
  },
  {
   "cell_type": "markdown",
   "id": "1db8f6ac-25b9-4e32-97bb-273e52b56131",
   "metadata": {},
   "source": [
    "### While (Bu şart sağlandığı sürece demek)"
   ]
  },
  {
   "cell_type": "code",
   "execution_count": 18,
   "id": "c5d91735-d36a-405a-b602-7f189f58a4c4",
   "metadata": {},
   "outputs": [
    {
     "name": "stdout",
     "output_type": "stream",
     "text": [
      "2\n",
      "3\n",
      "4\n",
      "5\n",
      "6\n",
      "7\n",
      "8\n",
      "9\n",
      "10\n"
     ]
    }
   ],
   "source": [
    "sayi = 1\n",
    "\n",
    "while sayi < 10:\n",
    "    sayi += 1\n",
    "    print(sayi)"
   ]
  },
  {
   "cell_type": "markdown",
   "id": "903ff371-6612-452d-9e10-989f7324ac57",
   "metadata": {},
   "source": [
    "## Python 401 - OOP,Fonksiyonel Programlama,Modül Oluşturma ve İstisnalar"
   ]
  },
  {
   "cell_type": "code",
   "execution_count": 5,
   "id": "1374ebb5-bcfe-4ff8-aeaf-54d1620acadb",
   "metadata": {},
   "outputs": [],
   "source": [
    "#OOP optimizasyon ve olayı daha da basitleştirmedir\n",
    "\n",
    "#Sınıf Nedir ?\n",
    "\n",
    "# Benzer özellikler ortak amaçlar taşıyan gruplar oluşturmak için kullanılır"
   ]
  },
  {
   "cell_type": "code",
   "execution_count": 1,
   "id": "a1ef8942-82d2-4765-aa6d-b27cf479de08",
   "metadata": {},
   "outputs": [],
   "source": [
    "#Sınıf Özellikleri (Class Attributes)\n",
    "\n",
    "class VeriBilimci():\n",
    "    bolum = \"\"\n",
    "    sql = \"evet\"\n",
    "    deneyim_yili= 0\n",
    "    bildigi_diller = []"
   ]
  },
  {
   "cell_type": "code",
   "execution_count": 2,
   "id": "d37e83ac-afa0-43bb-9f60-3f6fbfa837ca",
   "metadata": {},
   "outputs": [
    {
     "data": {
      "text/plain": [
       "'evet'"
      ]
     },
     "execution_count": 2,
     "metadata": {},
     "output_type": "execute_result"
    }
   ],
   "source": [
    "#Sınıfların Özelliklerine Erişmek    \n",
    "VeriBilimci.bolum\n",
    "VeriBilimci.sql"
   ]
  },
  {
   "cell_type": "code",
   "execution_count": 3,
   "id": "2546c5bd-442c-4194-b87a-16a6e77b9318",
   "metadata": {},
   "outputs": [
    {
     "data": {
      "text/plain": [
       "'hayir'"
      ]
     },
     "execution_count": 3,
     "metadata": {},
     "output_type": "execute_result"
    }
   ],
   "source": [
    "#Siniflarin ozelliklerını degıstırmek\n",
    "VeriBilimci.sql =\"hayir\"\n",
    "VeriBilimci.sql #evetden hayıra çevirdik"
   ]
  },
  {
   "cell_type": "code",
   "execution_count": 10,
   "id": "a0715b8d-2509-4ce6-8eb5-2ab0d7a36751",
   "metadata": {},
   "outputs": [
    {
     "data": {
      "text/plain": [
       "'evet'"
      ]
     },
     "execution_count": 10,
     "metadata": {},
     "output_type": "execute_result"
    }
   ],
   "source": [
    "#Sınıf Örneklendirmesi (instantiation)\n",
    "#Bu ihtiyaç genel sınıf özelliklerinden alt birim oluşturmak adına doğar\n",
    "\n",
    "class VeriBilimci():\n",
    "    bolum = \"\"\n",
    "    sql = \"evet\"\n",
    "    deneyim_yili= 0\n",
    "    bildigi_diller = []\n",
    "    \n",
    "ali = VeriBilimci()\n",
    "\n",
    "ali.sql"
   ]
  },
  {
   "cell_type": "code",
   "execution_count": 11,
   "id": "83ede839-3737-44d9-8c0e-8ee8e631e95f",
   "metadata": {},
   "outputs": [
    {
     "data": {
      "text/plain": [
       "0"
      ]
     },
     "execution_count": 11,
     "metadata": {},
     "output_type": "execute_result"
    }
   ],
   "source": [
    "ali.deneyim_yili"
   ]
  },
  {
   "cell_type": "code",
   "execution_count": 12,
   "id": "fc72baa1-5b9c-46e2-88ad-53f4ceade5af",
   "metadata": {},
   "outputs": [
    {
     "data": {
      "text/plain": [
       "''"
      ]
     },
     "execution_count": 12,
     "metadata": {},
     "output_type": "execute_result"
    }
   ],
   "source": [
    "ali.bolum"
   ]
  },
  {
   "cell_type": "code",
   "execution_count": 19,
   "id": "2dd45f9f-7e3c-4b04-858f-bd7f924743a8",
   "metadata": {},
   "outputs": [
    {
     "data": {
      "text/plain": [
       "['python']"
      ]
     },
     "execution_count": 19,
     "metadata": {},
     "output_type": "execute_result"
    }
   ],
   "source": [
    "ali.bildigi_diller.append(\"python\")\n",
    "ali.bildigi_diller"
   ]
  },
  {
   "cell_type": "code",
   "execution_count": 21,
   "id": "d02e07e6-68f1-4c44-9ca8-bb93ee5c5f66",
   "metadata": {},
   "outputs": [
    {
     "data": {
      "text/plain": [
       "['python']"
      ]
     },
     "execution_count": 21,
     "metadata": {},
     "output_type": "execute_result"
    }
   ],
   "source": [
    "veli =VeriBilimci()\n",
    "veli.sql\n",
    "veli.bildigi_diller \n",
    "#velide de python dili biliyor çıktı\n",
    "#aslında böyle olmaması gerekir çözüm bir sonraki dersde"
   ]
  },
  {
   "cell_type": "code",
   "execution_count": null,
   "id": "2a275a47-ad82-4651-8ffd-6ecf7cfd12ad",
   "metadata": {},
   "outputs": [],
   "source": [
    "#Örnek Özellikleri\n",
    "#Örneklerin her birinin kendi içinde değişebilir olduğu bilgisi pythona verilmeli"
   ]
  },
  {
   "cell_type": "code",
   "execution_count": 1,
   "id": "ff4f72cd-ab02-4ff5-a334-913b35e5db37",
   "metadata": {},
   "outputs": [],
   "source": [
    "class VeriBilimci():\n",
    "    bildigi_diller = [\"R\", \"Python\"]\n",
    "    def __init__(self):\n",
    "        self.bildigi_diller = []\n",
    "\n",
    "#üstteki kodla bildigi diller kısmını özelleştirebiliriz\n",
    "#self örnekleri temsil eder    "
   ]
  },
  {
   "cell_type": "code",
   "execution_count": 2,
   "id": "4fa0d56f-36ef-49ff-9eb4-65f36b0adfe7",
   "metadata": {},
   "outputs": [
    {
     "data": {
      "text/plain": [
       "[]"
      ]
     },
     "execution_count": 2,
     "metadata": {},
     "output_type": "execute_result"
    }
   ],
   "source": [
    "ali = VeriBilimci()\n",
    "ali.bildigi_diller"
   ]
  },
  {
   "cell_type": "code",
   "execution_count": 3,
   "id": "a7cf3fc9-fea3-4877-92c7-02798ed06190",
   "metadata": {},
   "outputs": [
    {
     "data": {
      "text/plain": [
       "[]"
      ]
     },
     "execution_count": 3,
     "metadata": {},
     "output_type": "execute_result"
    }
   ],
   "source": [
    "veli = VeriBilimci()\n",
    "veli.bildigi_diller"
   ]
  },
  {
   "cell_type": "code",
   "execution_count": 4,
   "id": "a07775b9-e79c-48ff-bc6a-880759f13cc7",
   "metadata": {},
   "outputs": [
    {
     "data": {
      "text/plain": [
       "['Python']"
      ]
     },
     "execution_count": 4,
     "metadata": {},
     "output_type": "execute_result"
    }
   ],
   "source": [
    "ali.bildigi_diller.append(\"Python\")\n",
    "ali.bildigi_diller"
   ]
  },
  {
   "cell_type": "code",
   "execution_count": 5,
   "id": "c93a78f6-1798-4610-861c-f0099011d0ce",
   "metadata": {},
   "outputs": [
    {
     "data": {
      "text/plain": [
       "['R']"
      ]
     },
     "execution_count": 5,
     "metadata": {},
     "output_type": "execute_result"
    }
   ],
   "source": [
    "veli.bildigi_diller.append(\"R\")\n",
    "veli.bildigi_diller"
   ]
  },
  {
   "cell_type": "code",
   "execution_count": 6,
   "id": "9f5887bb-46d1-49cb-ad5d-6f66616eed14",
   "metadata": {},
   "outputs": [
    {
     "data": {
      "text/plain": [
       "['R', 'Python']"
      ]
     },
     "execution_count": 6,
     "metadata": {},
     "output_type": "execute_result"
    }
   ],
   "source": [
    "VeriBilimci.bildigi_diller"
   ]
  },
  {
   "cell_type": "code",
   "execution_count": 38,
   "id": "a6b7df73-7328-41cb-be33-2cae56269da5",
   "metadata": {},
   "outputs": [
    {
     "name": "stdout",
     "output_type": "stream",
     "text": [
      "['R']\n",
      " \n"
     ]
    }
   ],
   "source": [
    "#Örnek Metodları\n",
    "#Örnekler üzerinde çalışan fonksiyonlar yapmak\n",
    "\n",
    "class VeriBilimci:\n",
    "    calisanlar = []\n",
    "\n",
    "    def __init__(self):\n",
    "        self.bildigi_diller = []\n",
    "        self.bolum = \" \"\n",
    "\n",
    "    def dil_ekle(self, yeni_dil):\n",
    "        self.bildigi_diller.append(yeni_dil)\n",
    "\n",
    "# Sınıfın örneğini oluştur\n",
    "ali = VeriBilimci()\n",
    "\n",
    "# Sınıf örneği üzerinden dil_ekle metodunu kullan\n",
    "ali.dil_ekle(\"R\")\n",
    "\n",
    "# Sonuçları kontrol et\n",
    "print(ali.bildigi_diller)\n",
    "print(ali.bolum)"
   ]
  },
  {
   "cell_type": "code",
   "execution_count": 39,
   "id": "0b581473-fac2-421c-98a2-143ae5fcc2c9",
   "metadata": {},
   "outputs": [
    {
     "data": {
      "text/plain": [
       "<__main__.Marketing at 0x2154b6c5510>"
      ]
     },
     "execution_count": 39,
     "metadata": {},
     "output_type": "execute_result"
    }
   ],
   "source": [
    "#Miras Yapıları (inheritance)\n",
    "#Var olan bazı classlardan miras kalması\n",
    "\n",
    "class Employees():           #bu yapı diğerlerinin içinde miras olarak geçti.\n",
    "    def __init__(self):\n",
    "        self.FirstName= \"\"\n",
    "        self.LastName = \" \"\n",
    "        self.Address = \" \"\n",
    "    \n",
    "class DataScience(Employees):   \n",
    "    def __init__(self):\n",
    "        self.Programming= \"\"\n",
    "        \n",
    "veribilimci1 = DataScience()\n",
    "veribilimci1\n",
    "      \n",
    "class Marketing(Employees):\n",
    "    def __init__(self):\n",
    "        self.Storytelling= \"\"      \n",
    "\n",
    "\n",
    "mar1 = Marketing()\n",
    "mar1"
   ]
  },
  {
   "cell_type": "markdown",
   "id": "8ca13ff9-579d-4893-9f32-a43a10e737c8",
   "metadata": {},
   "source": [
    "### Fonksiyonel Programlamaya Giriş"
   ]
  },
  {
   "cell_type": "code",
   "execution_count": 41,
   "id": "09185459-ea1a-4646-831d-9d3ad6e9ee37",
   "metadata": {},
   "outputs": [
    {
     "data": {
      "text/plain": [
       "15"
      ]
     },
     "execution_count": 41,
     "metadata": {},
     "output_type": "execute_result"
    }
   ],
   "source": [
    "#Yan Etkisiz Fonksiyonlar\n",
    "#Örnek 1\n",
    "\n",
    "A = 9\n",
    "\n",
    "def impure_sum(b):\n",
    "    return b + A\n",
    "\n",
    "def pure_sum(a,b):\n",
    "    return a + b\n",
    "\n",
    "impure_sum(6)"
   ]
  },
  {
   "cell_type": "code",
   "execution_count": 42,
   "id": "2011d24c-e9dc-4580-922c-767ad9c8ef49",
   "metadata": {},
   "outputs": [
    {
     "data": {
      "text/plain": [
       "7"
      ]
     },
     "execution_count": 42,
     "metadata": {},
     "output_type": "execute_result"
    }
   ],
   "source": [
    "pure_sum(3, 4)"
   ]
  },
  {
   "cell_type": "code",
   "execution_count": 43,
   "id": "501aa5f1-ed3f-4429-ae29-131e58d594e8",
   "metadata": {},
   "outputs": [],
   "source": [
    "#Örnek 2 - Ölümcül Yan Etkiler\n",
    "#OOP odaklı\n",
    "class LineCounter:\n",
    "    def __init__(self,filename):\n",
    "        self.file =open(filename,\"r\")\n",
    "        self.lines =[]\n",
    "        \n",
    "    def  read(self):\n",
    "        self.lines = [line for line in self.file]\n",
    "        \n",
    "    def count(self):\n",
    "        return len(self.line)"
   ]
  },
  {
   "cell_type": "code",
   "execution_count": 45,
   "id": "fd4bff59-e9d0-4184-8a83-1cf724bdccdf",
   "metadata": {},
   "outputs": [],
   "source": [
    "#Fonksiyonel Programlama\n",
    "\n",
    "def read(filename):\n",
    "    with open(filename,\"r\") as f:\n",
    "        return [line for line in f]\n",
    "    \n",
    "def count(lines):\n",
    "    return len(lines)\n",
    "\n",
    "#Fonksiyonel programlamada daha rahat daha bağımsız programlama yapılabilmekte"
   ]
  },
  {
   "cell_type": "code",
   "execution_count": 48,
   "id": "fd45bbfd-8140-4c4d-bd3b-72cb44955ce9",
   "metadata": {},
   "outputs": [
    {
     "data": {
      "text/plain": [
       "9"
      ]
     },
     "execution_count": 48,
     "metadata": {},
     "output_type": "execute_result"
    }
   ],
   "source": [
    "#İsimsiz Fonksiyonlar #lambda\n",
    "#OOP odaklı kod yazımı\n",
    "\n",
    "def old_sum(a,b):\n",
    "    return a+b\n",
    "    \n",
    "old_sum(4,5)"
   ]
  },
  {
   "cell_type": "code",
   "execution_count": 49,
   "id": "eead7ab9-5856-4a30-b7a3-c2a33fb9fb76",
   "metadata": {},
   "outputs": [
    {
     "data": {
      "text/plain": [
       "9"
      ]
     },
     "execution_count": 49,
     "metadata": {},
     "output_type": "execute_result"
    }
   ],
   "source": [
    "new_sum = lambda a,b: a+b\n",
    "new_sum(4,5)"
   ]
  },
  {
   "cell_type": "code",
   "execution_count": 53,
   "id": "38879d55-9b2d-41fd-b306-16c1ce165996",
   "metadata": {},
   "outputs": [
    {
     "data": {
      "text/plain": [
       "[2, 6, 12, 20]"
      ]
     },
     "execution_count": 53,
     "metadata": {},
     "output_type": "execute_result"
    }
   ],
   "source": [
    "#Vektörel Operasyonlar\n",
    "\n",
    "a = [1,2,3,4]\n",
    "b = [2,3,4,5]\n",
    "\n",
    "ab = []\n",
    "\n",
    "for i in range(0,len(a)):\n",
    "    ab.append((a[i]*b[i]))\n",
    "    \n",
    "ab"
   ]
  },
  {
   "cell_type": "code",
   "execution_count": 54,
   "id": "6ef2581d-9dbd-4b02-8eeb-b46d558bed89",
   "metadata": {},
   "outputs": [
    {
     "data": {
      "text/plain": [
       "array([ 2,  6, 12, 20])"
      ]
     },
     "execution_count": 54,
     "metadata": {},
     "output_type": "execute_result"
    }
   ],
   "source": [
    "#Fonksiyonel Programlama Versiyonu\n",
    "\n",
    "import numpy as np\n",
    "\n",
    "a = np.array([1,2,3,4])\n",
    "b = np.array([2,3,4,5])\n",
    "\n",
    "a*b"
   ]
  },
  {
   "cell_type": "code",
   "execution_count": 56,
   "id": "0bcb0b87-938f-4ce7-baf3-8996bbcac053",
   "metadata": {},
   "outputs": [
    {
     "name": "stdout",
     "output_type": "stream",
     "text": [
      "11\n",
      "12\n",
      "13\n",
      "14\n",
      "15\n"
     ]
    }
   ],
   "source": [
    "#Map, filter ve reduce fonksiyonları (lambda ile kullanılırlar)\n",
    "#Map\n",
    "liste = [1,2,3,4,5]\n",
    "\n",
    "for i in liste:\n",
    "    print(i+10)"
   ]
  },
  {
   "cell_type": "code",
   "execution_count": 57,
   "id": "897e2d29-d294-4037-8c00-30ed49f193b8",
   "metadata": {},
   "outputs": [
    {
     "data": {
      "text/plain": [
       "[11, 12, 13, 14, 15]"
      ]
     },
     "execution_count": 57,
     "metadata": {},
     "output_type": "execute_result"
    }
   ],
   "source": [
    "list(map(lambda x: x + 10,liste))"
   ]
  },
  {
   "cell_type": "code",
   "execution_count": 58,
   "id": "b58bf874-8621-4148-b05d-ad49ab270440",
   "metadata": {},
   "outputs": [
    {
     "data": {
      "text/plain": [
       "[2, 4, 6, 8, 10]"
      ]
     },
     "execution_count": 58,
     "metadata": {},
     "output_type": "execute_result"
    }
   ],
   "source": [
    "#filter\n",
    "liste = [1,2,3,4,5,6,7,8,9,10]\n",
    "\n",
    "list(filter(lambda x: x % 2 == 0, liste))"
   ]
  },
  {
   "cell_type": "code",
   "execution_count": 60,
   "id": "231bc283-b3e5-43ba-aae3-09f54aa76faa",
   "metadata": {},
   "outputs": [
    {
     "data": {
      "text/plain": [
       "10"
      ]
     },
     "execution_count": 60,
     "metadata": {},
     "output_type": "execute_result"
    }
   ],
   "source": [
    "#reduce - indirgeme işlemi\n",
    "from functools import reduce\n",
    "\n",
    "liste = [1,2,3,4]\n",
    "reduce(lambda a,b: a + b, liste)\n",
    "\n",
    "#Sonuç, listenin tüm elemanlarının kümülatif toplamıdır."
   ]
  }
 ],
 "metadata": {
  "kernelspec": {
   "display_name": "Python 3 (ipykernel)",
   "language": "python",
   "name": "python3"
  },
  "language_info": {
   "codemirror_mode": {
    "name": "ipython",
    "version": 3
   },
   "file_extension": ".py",
   "mimetype": "text/x-python",
   "name": "python",
   "nbconvert_exporter": "python",
   "pygments_lexer": "ipython3",
   "version": "3.12.0"
  }
 },
 "nbformat": 4,
 "nbformat_minor": 5
}
